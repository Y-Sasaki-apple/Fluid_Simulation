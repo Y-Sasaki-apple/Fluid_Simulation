{
 "cells": [
  {
   "cell_type": "markdown",
   "metadata": {},
   "source": [
    "# Oscillating Rod シミュレーションの移行"
   ]
  },
  {
   "cell_type": "code",
   "execution_count": 45,
   "metadata": {},
   "outputs": [
    {
     "name": "stdout",
     "output_type": "stream",
     "text": [
      "682741310571\n",
      "us-east-2\n",
      "arn:aws:iam::682741310571:role/service-role/AmazonSageMaker-ExecutionRole-20190415T123416\n",
      "sagemaker-us-east-2-682741310571\n"
     ]
    }
   ],
   "source": [
    "import boto3\n",
    "import sagemaker\n",
    "from sagemaker import get_execution_role\n",
    "\n",
    "ecr_namespace = 'sagemaker-pysph-test/'\n",
    "prefix = 'pysph-example-container'\n",
    "\n",
    "ecr_repository_name = ecr_namespace + prefix\n",
    "role = get_execution_role()\n",
    "account_id = role.split(':')[4]\n",
    "region = boto3.Session().region_name\n",
    "sagemaker_session = sagemaker.session.Session()\n",
    "bucket = sagemaker_session.default_bucket()\n",
    "\n",
    "print(account_id)\n",
    "print(region)\n",
    "print(role)\n",
    "print(bucket)"
   ]
  },
  {
   "cell_type": "markdown",
   "metadata": {},
   "source": [
    "## 使用するファイルの内容を表示\n",
    "pygmentize: ファイル内容をハイライト付きで表示する"
   ]
  },
  {
   "cell_type": "markdown",
   "metadata": {},
   "source": [
    "## build and pushの実行\n",
    "\n",
    "- 実行権限がない場合\n",
    "```\n",
    "!chmod +x ../scripts/build_and_push.sh\n",
    "```\n",
    "- Permission Denied防止\n",
    "```\n",
    "!chmod +x ../docker/code/train\n",
    "```"
   ]
  },
  {
   "cell_type": "code",
   "execution_count": 46,
   "metadata": {
    "scrolled": true
   },
   "outputs": [
    {
     "name": "stdout",
     "output_type": "stream",
     "text": [
      "Sending build context to Docker daemon  79.36kB\n",
      "Step 1/22 : FROM nvidia/opencl:devel-ubuntu18.04\n",
      " ---> fd671294c1b7\n",
      "Step 2/22 : LABEL maintainer=\"Sasaki Y\"\n",
      " ---> Using cache\n",
      " ---> 6d4917b308fd\n",
      "Step 3/22 : ENV DEBIAN_FRONTEND=noninteractive\n",
      " ---> Using cache\n",
      " ---> fbfdac55da99\n",
      "Step 4/22 : ARG PYTHON=python3\n",
      " ---> Using cache\n",
      " ---> 8fc7edf6a2c5\n",
      "Step 5/22 : ARG PYTHON_PIP=python3-pip\n",
      " ---> Using cache\n",
      " ---> 92719e58e40b\n",
      "Step 6/22 : ARG PIP=pip3\n",
      " ---> Using cache\n",
      " ---> 50ef21aabef2\n",
      "Step 7/22 : ARG PYTHON_VERSION=3.6.6\n",
      " ---> Using cache\n",
      " ---> 927be79e7c9d\n",
      "Step 8/22 : RUN apt-get update && apt-get install -y --no-install-recommends software-properties-common &&     add-apt-repository ppa:deadsnakes/ppa -y &&     apt-get update && apt-get install -y --no-install-recommends         build-essential         ca-certificates         curl         wget         git         libopencv-dev         openssh-client         openssh-server         vim         zlib1g-dev &&     rm -rf /var/lib/apt/lists/*\n",
      " ---> Using cache\n",
      " ---> 047495744f53\n",
      "Step 9/22 : RUN wget https://www.python.org/ftp/python/$PYTHON_VERSION/Python-$PYTHON_VERSION.tgz &&         tar -xvf Python-$PYTHON_VERSION.tgz && cd Python-$PYTHON_VERSION &&         ./configure && make && make install &&         apt-get update && apt-get install -y --no-install-recommends libreadline-gplv2-dev libncursesw5-dev libssl-dev libsqlite3-dev tk-dev libgdbm-dev libc6-dev libbz2-dev &&         make && make install && rm -rf ../Python-$PYTHON_VERSION* &&         ln -s /usr/local/bin/pip3 /usr/bin/pip\n",
      " ---> Using cache\n",
      " ---> d992ccdfbe0c\n",
      "Step 10/22 : RUN ${PIP} --no-cache-dir install --upgrade pip\n",
      " ---> Using cache\n",
      " ---> 07c3cd25d9f6\n",
      "Step 11/22 : RUN ln -s $(which ${PYTHON}) /usr/local/bin/python\n",
      " ---> Using cache\n",
      " ---> 48dfb2136ba2\n",
      "Step 12/22 : WORKDIR /\n",
      " ---> Using cache\n",
      " ---> 1b39b12f416f\n",
      "Step 13/22 : RUN ${PIP} install --no-cache --upgrade pyopencl==2020.1 matplotlib\n",
      " ---> Using cache\n",
      " ---> 63fb753929f1\n",
      "Step 14/22 : RUN git clone https://github.com/pypr/pysph.git\n",
      " ---> Using cache\n",
      " ---> a0d7d311fd78\n",
      "Step 15/22 : WORKDIR pysph\n",
      " ---> Using cache\n",
      " ---> aaddeab0d03c\n",
      "Step 16/22 : RUN ${PIP} install --no-cache -r requirements.txt\n",
      " ---> Using cache\n",
      " ---> f885fc938d8c\n",
      "Step 17/22 : RUN ${PIP} install --no-cache -r requirements-test.txt\n",
      " ---> Using cache\n",
      " ---> f9a0326057a2\n",
      "Step 18/22 : RUN ${PYTHON} setup.py develop\n",
      " ---> Using cache\n",
      " ---> d2a712d96e9d\n",
      "Step 19/22 : WORKDIR ..\n",
      " ---> Using cache\n",
      " ---> 0d6904799dfa\n",
      "Step 20/22 : ENV PYTHONDONTWRITEBYTECODE=1     PYTHONUNBUFFERED=1     LD_LIBRARY_PATH=\"${LD_LIBRARY_PATH}:/usr/local/lib\"     PYTHONIOENCODING=UTF-8     LANG=C.UTF-8     LC_ALL=C.UTF-8\n",
      " ---> Using cache\n",
      " ---> cada6c796a22\n",
      "Step 21/22 : COPY code/* /\n",
      " ---> Using cache\n",
      " ---> 87eece9e6364\n",
      "Step 22/22 : ENTRYPOINT [\"./train\"]\n",
      " ---> Using cache\n",
      " ---> 11aa6467e6c0\n",
      "Successfully built 11aa6467e6c0\n",
      "Successfully tagged sagemaker-pysph-test/pysph-example-container:latest\n",
      "WARNING! Using --password via the CLI is insecure. Use --password-stdin.\n",
      "WARNING! Your password will be stored unencrypted in /home/ec2-user/.docker/config.json.\n",
      "Configure a credential helper to remove this warning. See\n",
      "https://docs.docker.com/engine/reference/commandline/login/#credentials-store\n",
      "\n",
      "Login Succeeded\n",
      "{\n",
      "    \"repositories\": [\n",
      "        {\n",
      "            \"repositoryArn\": \"arn:aws:ecr:us-east-2:682741310571:repository/sagemaker-pysph-test/pysph-example-container\",\n",
      "            \"registryId\": \"682741310571\",\n",
      "            \"repositoryName\": \"sagemaker-pysph-test/pysph-example-container\",\n",
      "            \"repositoryUri\": \"682741310571.dkr.ecr.us-east-2.amazonaws.com/sagemaker-pysph-test/pysph-example-container\",\n",
      "            \"createdAt\": 1608101924.0,\n",
      "            \"imageTagMutability\": \"MUTABLE\",\n",
      "            \"imageScanningConfiguration\": {\n",
      "                \"scanOnPush\": false\n",
      "            },\n",
      "            \"encryptionConfiguration\": {\n",
      "                \"encryptionType\": \"AES256\"\n",
      "            }\n",
      "        }\n",
      "    ]\n",
      "}\n",
      "The push refers to repository [682741310571.dkr.ecr.us-east-2.amazonaws.com/sagemaker-pysph-test/pysph-example-container]\n",
      "\n",
      "\u001b[1B98564e93: Preparing \n",
      "\u001b[1B44176daf: Preparing \n",
      "\u001b[1Bd298620c: Preparing \n",
      "\u001b[1Bb53b2cb8: Preparing \n",
      "\u001b[1B13831d96: Preparing \n",
      "\u001b[1B3c9ea4b3: Preparing \n",
      "\u001b[1B346358e5: Preparing \n",
      "\u001b[1B9105a991: Preparing \n",
      "\u001b[1B021f869d: Preparing \n",
      "\u001b[1Be0627ae1: Preparing \n",
      "\u001b[1B599b2089: Preparing \n",
      "\u001b[1B3c988ff4: Preparing \n",
      "\u001b[1Bfa225beb: Preparing \n",
      "\u001b[1Ba83e3c62: Preparing \n",
      "\u001b[1B1ee02432: Preparing \n",
      "\u001b[1B2816c52a: Preparing \n",
      "\u001b[1Bb420796f: Preparing \n",
      "\u001b[1B835850bf: Layer already exists \u001b[15A\u001b[2K\u001b[17A\u001b[2K\u001b[12A\u001b[2K\u001b[11A\u001b[2K\u001b[4A\u001b[2Klatest: digest: sha256:abcb47015f4ff6299503e778cfee4a6cc84b5336657e1ec4e22b291a3dff7dce size: 4096\n"
     ]
    }
   ],
   "source": [
    "!chmod +x ../docker/code/train\n",
    "! ../scripts/build_and_push.sh $account_id $region $ecr_repository_name"
   ]
  },
  {
   "cell_type": "markdown",
   "metadata": {},
   "source": [
    "### ECR上にアップロードしたコンテナのアドレス"
   ]
  },
  {
   "cell_type": "code",
   "execution_count": 47,
   "metadata": {},
   "outputs": [
    {
     "name": "stdout",
     "output_type": "stream",
     "text": [
      "682741310571.dkr.ecr.us-east-2.amazonaws.com/sagemaker-pysph-test/pysph-example-container:latest\n"
     ]
    }
   ],
   "source": [
    "container_image_uri = '{0}.dkr.ecr.{1}.amazonaws.com/{2}:latest'.format(account_id, region, ecr_repository_name)\n",
    "print(container_image_uri)"
   ]
  },
  {
   "cell_type": "markdown",
   "metadata": {},
   "source": [
    "## ハイパーパラメータの設定"
   ]
  },
  {
   "cell_type": "code",
   "execution_count": 48,
   "metadata": {},
   "outputs": [
    {
     "name": "stdout",
     "output_type": "stream",
     "text": [
      "s3://sagemaker-us-east-2-682741310571/pysph-example-container/train/dummy.csv\n",
      "s3://sagemaker-us-east-2-682741310571/pysph-example-container/val/dummy.csv\n"
     ]
    }
   ],
   "source": [
    "! echo \"val1, val2, val3\" > dummy.csv\n",
    "print(sagemaker_session.upload_data('dummy.csv', bucket, prefix + '/train'))\n",
    "print(sagemaker_session.upload_data('dummy.csv', bucket, prefix + '/val'))\n",
    "! rm dummy.csv"
   ]
  },
  {
   "cell_type": "markdown",
   "metadata": {},
   "source": [
    "## トレーニングの実行"
   ]
  },
  {
   "cell_type": "code",
   "execution_count": 52,
   "metadata": {
    "scrolled": true
   },
   "outputs": [
    {
     "name": "stdout",
     "output_type": "stream",
     "text": [
      "sagemaker-pysph-test/color_try2\n",
      "2020-12-18 07:47:53 Starting - Starting the training job...\n",
      "2020-12-18 07:48:18 Starting - Launching requested ML instancesProfilerReport-1608277673: InProgress\n",
      "......\n",
      "2020-12-18 07:49:19 Starting - Preparing the instances for training......\n",
      "2020-12-18 07:50:21 Downloading - Downloading input data\n",
      "2020-12-18 07:50:21 Training - Downloading the training image......\n",
      "2020-12-18 07:51:21 Training - Training image download completed. Training in progress...\u001b[34mWarning: the following symbols are implicitly defined.\n",
      "  {'j'}\u001b[0m\n",
      "\u001b[34mYou may want to explicitly declare/define them.\u001b[0m\n",
      "\u001b[34mWarning: the following symbols are implicitly defined.\n",
      "  {'m', 'j', 'k'}\u001b[0m\n",
      "\u001b[34mYou may want to explicitly declare/define them.\u001b[0m\n",
      "\u001b[34mGenerating output in /opt/ml/model/experiment\u001b[0m\n",
      "\u001b[34mOpenCL code written to /root/.pysph/source/py3.6-linux-x86_64/generated.cl\u001b[0m\n",
      "\u001b[34m----------------------------------------------------------------------\u001b[0m\n",
      "\u001b[34mNo of particles:\n",
      "  fluid: 14641\n",
      "  wall: 1488\n",
      "  Total: 16129\u001b[0m\n",
      "\u001b[34m----------------------------------------------------------------------\u001b[0m\n",
      "\u001b[34mSetup took: 19.17909 secs\u001b[0m\n",
      "\u001b[34mWarning: the following symbols are implicitly defined.\n",
      "  {'j'}\u001b[0m\n",
      "\u001b[34mYou may want to explicitly declare/define them.\u001b[0m\n",
      "\u001b[34mWarning: the following symbols are implicitly defined.\n",
      "  {'m', 'j', 'k'}\u001b[0m\n",
      "\u001b[34mYou may want to explicitly declare/define them.\u001b[0m\n",
      "\n",
      "2020-12-18 07:53:51 Uploading - Uploading generated training model\u001b[34mRun took: 126.20139 secs\u001b[0m\n",
      "\n",
      "2020-12-18 07:54:23 Completed - Training job completed\n",
      "Training seconds: 238\n",
      "Billable seconds: 238\n"
     ]
    }
   ],
   "source": [
    "import sagemaker\n",
    "\n",
    "est = sagemaker.estimator.Estimator(container_image_uri,\n",
    "                                    role, \n",
    "                                    instance_count=1, \n",
    "                                    #instance_type='local_gpu', # use local mode\n",
    "                                    instance_type='ml.p3.2xlarge',\n",
    "                                    base_job_name=prefix)\n",
    "\n",
    "est.set_hyperparameters(hp1='value1',\n",
    "                        hp2=300,\n",
    "                        hp3=0.001)\n",
    "\n",
    "train_config = sagemaker.session.TrainingInput('s3://{0}/{1}/train/'.format(bucket, prefix), content_type='text/csv')\n",
    "val_config = sagemaker.session.TrainingInput('s3://{0}/{1}/val/'.format(bucket, prefix), content_type='text/csv')\n",
    "\n",
    "job_name=ecr_namespace+\"colortry2\"\n",
    "print(job_name)\n",
    "est.fit({'train': train_config, 'validation': val_config },job_name=\"colortry2\")"
   ]
  },
  {
   "cell_type": "markdown",
   "metadata": {},
   "source": [
    "対応するS3に\n",
    "```\n",
    "output.tar.gz\n",
    "```\n",
    "というファイルがあるので、そこからダウンロードして結果を取り出す"
   ]
  },
  {
   "cell_type": "code",
   "execution_count": 42,
   "metadata": {},
   "outputs": [
    {
     "data": {
      "text/plain": [
       "{'image_uri': '682741310571.dkr.ecr.us-east-2.amazonaws.com/sagemaker-pysph-test/pysph-example-container:latest',\n",
       " 'hyperparam_dict': {'hp1': 'value1', 'hp2': 300, 'hp3': 0.001},\n",
       " 'role': 'arn:aws:iam::682741310571:role/service-role/AmazonSageMaker-ExecutionRole-20190415T123416',\n",
       " 'instance_count': 1,\n",
       " 'instance_type': 'local_gpu',\n",
       " 'volume_size': 30,\n",
       " 'volume_kms_key': None,\n",
       " 'max_run': 86400,\n",
       " 'input_mode': 'File',\n",
       " 'tags': None,\n",
       " 'metric_definitions': None,\n",
       " 'model_uri': None,\n",
       " 'model_channel_name': 'model',\n",
       " 'code_uri': None,\n",
       " 'code_channel_name': 'code',\n",
       " 'sagemaker_session': <sagemaker.local.local_session.LocalSession at 0x7f38caec8208>,\n",
       " 'base_job_name': 'pysph-example-container',\n",
       " '_current_job_name': 'pysph-example-container-2020-12-17-06-31-12-414',\n",
       " 'output_path': 's3://sagemaker-us-east-2-682741310571/',\n",
       " 'output_kms_key': None,\n",
       " 'latest_training_job': <sagemaker.estimator._TrainingJob at 0x7f38cab72dd8>,\n",
       " 'jobs': [<sagemaker.estimator._TrainingJob at 0x7f38cab72dd8>],\n",
       " 'deploy_instance_type': None,\n",
       " '_compiled_models': {},\n",
       " 'subnets': None,\n",
       " 'security_group_ids': None,\n",
       " 'encrypt_inter_container_traffic': False,\n",
       " 'use_spot_instances': False,\n",
       " 'max_wait': None,\n",
       " 'checkpoint_s3_uri': None,\n",
       " 'checkpoint_local_path': None,\n",
       " 'rules': None,\n",
       " 'debugger_hook_config': None,\n",
       " 'tensorboard_output_config': None,\n",
       " 'debugger_rule_configs': [],\n",
       " 'collection_configs': set(),\n",
       " 'enable_sagemaker_metrics': None,\n",
       " '_enable_network_isolation': False,\n",
       " 'profiler_config': <sagemaker.debugger.profiler_config.ProfilerConfig at 0x7f38ca364b00>,\n",
       " 'disable_profiler': False,\n",
       " 'profiler_rule_configs': [{'RuleConfigurationName': 'ProfilerReport-1608186673',\n",
       "   'RuleEvaluatorImage': '915447279597.dkr.ecr.us-east-2.amazonaws.com/sagemaker-debugger-rules:latest',\n",
       "   'RuleParameters': {'rule_to_invoke': 'ProfilerReport'}}],\n",
       " 'profiler_rules': [ProfilerRule(name='ProfilerReport-1608186673', image_uri='915447279597.dkr.ecr.us-east-2.amazonaws.com/sagemaker-debugger-rules:latest', instance_type=None, container_local_output_path=None, s3_output_path=None, volume_size_in_gb=None, rule_parameters={'rule_to_invoke': 'ProfilerReport'})],\n",
       " 'debugger_rules': []}"
      ]
     },
     "execution_count": 42,
     "metadata": {},
     "output_type": "execute_result"
    }
   ],
   "source": [
    "est.__dict__"
   ]
  }
 ],
 "metadata": {
  "kernelspec": {
   "display_name": "conda_python3",
   "language": "python",
   "name": "conda_python3"
  },
  "language_info": {
   "codemirror_mode": {
    "name": "ipython",
    "version": 3
   },
   "file_extension": ".py",
   "mimetype": "text/x-python",
   "name": "python",
   "nbconvert_exporter": "python",
   "pygments_lexer": "ipython3",
   "version": "3.6.10"
  }
 },
 "nbformat": 4,
 "nbformat_minor": 4
}
